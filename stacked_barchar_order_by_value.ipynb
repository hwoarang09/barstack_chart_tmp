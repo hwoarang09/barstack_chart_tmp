{
  "nbformat": 4,
  "nbformat_minor": 0,
  "metadata": {
    "colab": {
      "provenance": []
    },
    "kernelspec": {
      "name": "python3",
      "display_name": "Python 3"
    },
    "language_info": {
      "name": "python"
    }
  },
  "cells": [
    {
      "cell_type": "code",
      "source": [],
      "metadata": {
        "id": "YjaVPPWii1y4"
      },
      "execution_count": null,
      "outputs": []
    },
    {
      "cell_type": "code",
      "source": [
        "import matplotlib.pyplot as plt\n",
        "plt.rc('font', family='NanumBarunGothic')\n",
        "!sudo apt-get install -y fonts-nanum\n",
        "!sudo fc-cache -fv\n",
        "!rm ~/.cache/matplotlib -rf"
      ],
      "metadata": {
        "colab": {
          "base_uri": "https://localhost:8080/"
        },
        "id": "QW8iFuuGi0bn",
        "outputId": "a4a88236-4ffb-4f92-c325-572b33e340a4"
      },
      "execution_count": null,
      "outputs": [
        {
          "output_type": "stream",
          "name": "stdout",
          "text": [
            "Reading package lists... Done\n",
            "Building dependency tree... Done\n",
            "Reading state information... Done\n",
            "fonts-nanum is already the newest version (20200506-1).\n",
            "0 upgraded, 0 newly installed, 0 to remove and 45 not upgraded.\n",
            "/usr/share/fonts: caching, new cache contents: 0 fonts, 1 dirs\n",
            "/usr/share/fonts/truetype: caching, new cache contents: 0 fonts, 3 dirs\n",
            "/usr/share/fonts/truetype/humor-sans: caching, new cache contents: 1 fonts, 0 dirs\n",
            "/usr/share/fonts/truetype/liberation: caching, new cache contents: 16 fonts, 0 dirs\n",
            "/usr/share/fonts/truetype/nanum: caching, new cache contents: 12 fonts, 0 dirs\n",
            "/usr/local/share/fonts: caching, new cache contents: 0 fonts, 0 dirs\n",
            "/root/.local/share/fonts: skipping, no such directory\n",
            "/root/.fonts: skipping, no such directory\n",
            "/usr/share/fonts/truetype: skipping, looped directory detected\n",
            "/usr/share/fonts/truetype/humor-sans: skipping, looped directory detected\n",
            "/usr/share/fonts/truetype/liberation: skipping, looped directory detected\n",
            "/usr/share/fonts/truetype/nanum: skipping, looped directory detected\n",
            "/var/cache/fontconfig: cleaning cache directory\n",
            "/root/.cache/fontconfig: not cleaning non-existent cache directory\n",
            "/root/.fontconfig: not cleaning non-existent cache directory\n",
            "fc-cache: succeeded\n"
          ]
        }
      ]
    },
    {
      "cell_type": "code",
      "execution_count": null,
      "metadata": {
        "colab": {
          "base_uri": "https://localhost:8080/"
        },
        "id": "95Z5KT_tx8U7",
        "outputId": "13aefc09-ccb7-471f-e560-5cb7b792195c"
      },
      "outputs": [
        {
          "output_type": "stream",
          "name": "stdout",
          "text": [
            "Drive already mounted at /content/gdrive/; to attempt to forcibly remount, call drive.mount(\"/content/gdrive/\", force_remount=True).\n"
          ]
        }
      ],
      "source": [
        "from google.colab import drive\n",
        "drive.mount('/content/gdrive/')"
      ]
    },
    {
      "cell_type": "markdown",
      "source": [
        "# 샘플데이터로 진행"
      ],
      "metadata": {
        "id": "nLuo5z0Shcgn"
      }
    },
    {
      "cell_type": "code",
      "source": [],
      "metadata": {
        "id": "YXv41DgGheI4"
      },
      "execution_count": null,
      "outputs": []
    },
    {
      "cell_type": "code",
      "source": [
        "import pandas as pd\n",
        "path = '/content/gdrive/MyDrive/개인정리/stacked_barchar_order_by_value/test.csv'\n",
        "seoul_moving = pd.read_csv(path,sep=\",\", encoding = 'UTF-8', index_col = 'Unnamed: 0')"
      ],
      "metadata": {
        "id": "q_JA-oclzQfy"
      },
      "execution_count": null,
      "outputs": []
    },
    {
      "cell_type": "code",
      "source": [
        "# 데이터 프레임의 Shape을 확인합니다.\n",
        "seoul_moving.shape"
      ],
      "metadata": {
        "colab": {
          "base_uri": "https://localhost:8080/"
        },
        "id": "5W-H3AcI0VBO",
        "outputId": "2b1c99ec-93f9-4ee9-ed3b-9c67d8cf9532"
      },
      "execution_count": null,
      "outputs": [
        {
          "output_type": "execute_result",
          "data": {
            "text/plain": [
              "(2000, 2)"
            ]
          },
          "metadata": {},
          "execution_count": 5
        }
      ]
    },
    {
      "cell_type": "code",
      "source": [
        "sms = seoul_moving\n",
        "sms"
      ],
      "metadata": {
        "colab": {
          "base_uri": "https://localhost:8080/",
          "height": 424
        },
        "id": "-zx8UtSu1Q-B",
        "outputId": "4dbc3213-a700-4724-d727-8f9c3331fd03"
      },
      "execution_count": null,
      "outputs": [
        {
          "output_type": "execute_result",
          "data": {
            "text/plain": [
              "          weekday  arrival_code\n",
              "7090362         금         11240\n",
              "5296898  saturday         11210\n",
              "1103311         화         11010\n",
              "244879   saturday         11030\n",
              "5512778         월         11090\n",
              "...           ...           ...\n",
              "6078157         월         11010\n",
              "4976618         화         11140\n",
              "2281893         금         11060\n",
              "2157190         수         11040\n",
              "4445686         수         11180\n",
              "\n",
              "[2000 rows x 2 columns]"
            ],
            "text/html": [
              "\n",
              "  <div id=\"df-e9472d7d-ebd9-488f-9fb8-867e579b7634\" class=\"colab-df-container\">\n",
              "    <div>\n",
              "<style scoped>\n",
              "    .dataframe tbody tr th:only-of-type {\n",
              "        vertical-align: middle;\n",
              "    }\n",
              "\n",
              "    .dataframe tbody tr th {\n",
              "        vertical-align: top;\n",
              "    }\n",
              "\n",
              "    .dataframe thead th {\n",
              "        text-align: right;\n",
              "    }\n",
              "</style>\n",
              "<table border=\"1\" class=\"dataframe\">\n",
              "  <thead>\n",
              "    <tr style=\"text-align: right;\">\n",
              "      <th></th>\n",
              "      <th>weekday</th>\n",
              "      <th>arrival_code</th>\n",
              "    </tr>\n",
              "  </thead>\n",
              "  <tbody>\n",
              "    <tr>\n",
              "      <th>7090362</th>\n",
              "      <td>금</td>\n",
              "      <td>11240</td>\n",
              "    </tr>\n",
              "    <tr>\n",
              "      <th>5296898</th>\n",
              "      <td>saturday</td>\n",
              "      <td>11210</td>\n",
              "    </tr>\n",
              "    <tr>\n",
              "      <th>1103311</th>\n",
              "      <td>화</td>\n",
              "      <td>11010</td>\n",
              "    </tr>\n",
              "    <tr>\n",
              "      <th>244879</th>\n",
              "      <td>saturday</td>\n",
              "      <td>11030</td>\n",
              "    </tr>\n",
              "    <tr>\n",
              "      <th>5512778</th>\n",
              "      <td>월</td>\n",
              "      <td>11090</td>\n",
              "    </tr>\n",
              "    <tr>\n",
              "      <th>...</th>\n",
              "      <td>...</td>\n",
              "      <td>...</td>\n",
              "    </tr>\n",
              "    <tr>\n",
              "      <th>6078157</th>\n",
              "      <td>월</td>\n",
              "      <td>11010</td>\n",
              "    </tr>\n",
              "    <tr>\n",
              "      <th>4976618</th>\n",
              "      <td>화</td>\n",
              "      <td>11140</td>\n",
              "    </tr>\n",
              "    <tr>\n",
              "      <th>2281893</th>\n",
              "      <td>금</td>\n",
              "      <td>11060</td>\n",
              "    </tr>\n",
              "    <tr>\n",
              "      <th>2157190</th>\n",
              "      <td>수</td>\n",
              "      <td>11040</td>\n",
              "    </tr>\n",
              "    <tr>\n",
              "      <th>4445686</th>\n",
              "      <td>수</td>\n",
              "      <td>11180</td>\n",
              "    </tr>\n",
              "  </tbody>\n",
              "</table>\n",
              "<p>2000 rows × 2 columns</p>\n",
              "</div>\n",
              "    <div class=\"colab-df-buttons\">\n",
              "\n",
              "  <div class=\"colab-df-container\">\n",
              "    <button class=\"colab-df-convert\" onclick=\"convertToInteractive('df-e9472d7d-ebd9-488f-9fb8-867e579b7634')\"\n",
              "            title=\"Convert this dataframe to an interactive table.\"\n",
              "            style=\"display:none;\">\n",
              "\n",
              "  <svg xmlns=\"http://www.w3.org/2000/svg\" height=\"24px\" viewBox=\"0 -960 960 960\">\n",
              "    <path d=\"M120-120v-720h720v720H120Zm60-500h600v-160H180v160Zm220 220h160v-160H400v160Zm0 220h160v-160H400v160ZM180-400h160v-160H180v160Zm440 0h160v-160H620v160ZM180-180h160v-160H180v160Zm440 0h160v-160H620v160Z\"/>\n",
              "  </svg>\n",
              "    </button>\n",
              "\n",
              "  <style>\n",
              "    .colab-df-container {\n",
              "      display:flex;\n",
              "      gap: 12px;\n",
              "    }\n",
              "\n",
              "    .colab-df-convert {\n",
              "      background-color: #E8F0FE;\n",
              "      border: none;\n",
              "      border-radius: 50%;\n",
              "      cursor: pointer;\n",
              "      display: none;\n",
              "      fill: #1967D2;\n",
              "      height: 32px;\n",
              "      padding: 0 0 0 0;\n",
              "      width: 32px;\n",
              "    }\n",
              "\n",
              "    .colab-df-convert:hover {\n",
              "      background-color: #E2EBFA;\n",
              "      box-shadow: 0px 1px 2px rgba(60, 64, 67, 0.3), 0px 1px 3px 1px rgba(60, 64, 67, 0.15);\n",
              "      fill: #174EA6;\n",
              "    }\n",
              "\n",
              "    .colab-df-buttons div {\n",
              "      margin-bottom: 4px;\n",
              "    }\n",
              "\n",
              "    [theme=dark] .colab-df-convert {\n",
              "      background-color: #3B4455;\n",
              "      fill: #D2E3FC;\n",
              "    }\n",
              "\n",
              "    [theme=dark] .colab-df-convert:hover {\n",
              "      background-color: #434B5C;\n",
              "      box-shadow: 0px 1px 3px 1px rgba(0, 0, 0, 0.15);\n",
              "      filter: drop-shadow(0px 1px 2px rgba(0, 0, 0, 0.3));\n",
              "      fill: #FFFFFF;\n",
              "    }\n",
              "  </style>\n",
              "\n",
              "    <script>\n",
              "      const buttonEl =\n",
              "        document.querySelector('#df-e9472d7d-ebd9-488f-9fb8-867e579b7634 button.colab-df-convert');\n",
              "      buttonEl.style.display =\n",
              "        google.colab.kernel.accessAllowed ? 'block' : 'none';\n",
              "\n",
              "      async function convertToInteractive(key) {\n",
              "        const element = document.querySelector('#df-e9472d7d-ebd9-488f-9fb8-867e579b7634');\n",
              "        const dataTable =\n",
              "          await google.colab.kernel.invokeFunction('convertToInteractive',\n",
              "                                                    [key], {});\n",
              "        if (!dataTable) return;\n",
              "\n",
              "        const docLinkHtml = 'Like what you see? Visit the ' +\n",
              "          '<a target=\"_blank\" href=https://colab.research.google.com/notebooks/data_table.ipynb>data table notebook</a>'\n",
              "          + ' to learn more about interactive tables.';\n",
              "        element.innerHTML = '';\n",
              "        dataTable['output_type'] = 'display_data';\n",
              "        await google.colab.output.renderOutput(dataTable, element);\n",
              "        const docLink = document.createElement('div');\n",
              "        docLink.innerHTML = docLinkHtml;\n",
              "        element.appendChild(docLink);\n",
              "      }\n",
              "    </script>\n",
              "  </div>\n",
              "\n",
              "\n",
              "<div id=\"df-7a318b3e-b221-4d60-850b-d003c89d230a\">\n",
              "  <button class=\"colab-df-quickchart\" onclick=\"quickchart('df-7a318b3e-b221-4d60-850b-d003c89d230a')\"\n",
              "            title=\"Suggest charts\"\n",
              "            style=\"display:none;\">\n",
              "\n",
              "<svg xmlns=\"http://www.w3.org/2000/svg\" height=\"24px\"viewBox=\"0 0 24 24\"\n",
              "     width=\"24px\">\n",
              "    <g>\n",
              "        <path d=\"M19 3H5c-1.1 0-2 .9-2 2v14c0 1.1.9 2 2 2h14c1.1 0 2-.9 2-2V5c0-1.1-.9-2-2-2zM9 17H7v-7h2v7zm4 0h-2V7h2v10zm4 0h-2v-4h2v4z\"/>\n",
              "    </g>\n",
              "</svg>\n",
              "  </button>\n",
              "\n",
              "<style>\n",
              "  .colab-df-quickchart {\n",
              "      --bg-color: #E8F0FE;\n",
              "      --fill-color: #1967D2;\n",
              "      --hover-bg-color: #E2EBFA;\n",
              "      --hover-fill-color: #174EA6;\n",
              "      --disabled-fill-color: #AAA;\n",
              "      --disabled-bg-color: #DDD;\n",
              "  }\n",
              "\n",
              "  [theme=dark] .colab-df-quickchart {\n",
              "      --bg-color: #3B4455;\n",
              "      --fill-color: #D2E3FC;\n",
              "      --hover-bg-color: #434B5C;\n",
              "      --hover-fill-color: #FFFFFF;\n",
              "      --disabled-bg-color: #3B4455;\n",
              "      --disabled-fill-color: #666;\n",
              "  }\n",
              "\n",
              "  .colab-df-quickchart {\n",
              "    background-color: var(--bg-color);\n",
              "    border: none;\n",
              "    border-radius: 50%;\n",
              "    cursor: pointer;\n",
              "    display: none;\n",
              "    fill: var(--fill-color);\n",
              "    height: 32px;\n",
              "    padding: 0;\n",
              "    width: 32px;\n",
              "  }\n",
              "\n",
              "  .colab-df-quickchart:hover {\n",
              "    background-color: var(--hover-bg-color);\n",
              "    box-shadow: 0 1px 2px rgba(60, 64, 67, 0.3), 0 1px 3px 1px rgba(60, 64, 67, 0.15);\n",
              "    fill: var(--button-hover-fill-color);\n",
              "  }\n",
              "\n",
              "  .colab-df-quickchart-complete:disabled,\n",
              "  .colab-df-quickchart-complete:disabled:hover {\n",
              "    background-color: var(--disabled-bg-color);\n",
              "    fill: var(--disabled-fill-color);\n",
              "    box-shadow: none;\n",
              "  }\n",
              "\n",
              "  .colab-df-spinner {\n",
              "    border: 2px solid var(--fill-color);\n",
              "    border-color: transparent;\n",
              "    border-bottom-color: var(--fill-color);\n",
              "    animation:\n",
              "      spin 1s steps(1) infinite;\n",
              "  }\n",
              "\n",
              "  @keyframes spin {\n",
              "    0% {\n",
              "      border-color: transparent;\n",
              "      border-bottom-color: var(--fill-color);\n",
              "      border-left-color: var(--fill-color);\n",
              "    }\n",
              "    20% {\n",
              "      border-color: transparent;\n",
              "      border-left-color: var(--fill-color);\n",
              "      border-top-color: var(--fill-color);\n",
              "    }\n",
              "    30% {\n",
              "      border-color: transparent;\n",
              "      border-left-color: var(--fill-color);\n",
              "      border-top-color: var(--fill-color);\n",
              "      border-right-color: var(--fill-color);\n",
              "    }\n",
              "    40% {\n",
              "      border-color: transparent;\n",
              "      border-right-color: var(--fill-color);\n",
              "      border-top-color: var(--fill-color);\n",
              "    }\n",
              "    60% {\n",
              "      border-color: transparent;\n",
              "      border-right-color: var(--fill-color);\n",
              "    }\n",
              "    80% {\n",
              "      border-color: transparent;\n",
              "      border-right-color: var(--fill-color);\n",
              "      border-bottom-color: var(--fill-color);\n",
              "    }\n",
              "    90% {\n",
              "      border-color: transparent;\n",
              "      border-bottom-color: var(--fill-color);\n",
              "    }\n",
              "  }\n",
              "</style>\n",
              "\n",
              "  <script>\n",
              "    async function quickchart(key) {\n",
              "      const quickchartButtonEl =\n",
              "        document.querySelector('#' + key + ' button');\n",
              "      quickchartButtonEl.disabled = true;  // To prevent multiple clicks.\n",
              "      quickchartButtonEl.classList.add('colab-df-spinner');\n",
              "      try {\n",
              "        const charts = await google.colab.kernel.invokeFunction(\n",
              "            'suggestCharts', [key], {});\n",
              "      } catch (error) {\n",
              "        console.error('Error during call to suggestCharts:', error);\n",
              "      }\n",
              "      quickchartButtonEl.classList.remove('colab-df-spinner');\n",
              "      quickchartButtonEl.classList.add('colab-df-quickchart-complete');\n",
              "    }\n",
              "    (() => {\n",
              "      let quickchartButtonEl =\n",
              "        document.querySelector('#df-7a318b3e-b221-4d60-850b-d003c89d230a button');\n",
              "      quickchartButtonEl.style.display =\n",
              "        google.colab.kernel.accessAllowed ? 'block' : 'none';\n",
              "    })();\n",
              "  </script>\n",
              "</div>\n",
              "\n",
              "  <div id=\"id_5e9a53bb-226c-464d-8071-3e5bf3c53c0e\">\n",
              "    <style>\n",
              "      .colab-df-generate {\n",
              "        background-color: #E8F0FE;\n",
              "        border: none;\n",
              "        border-radius: 50%;\n",
              "        cursor: pointer;\n",
              "        display: none;\n",
              "        fill: #1967D2;\n",
              "        height: 32px;\n",
              "        padding: 0 0 0 0;\n",
              "        width: 32px;\n",
              "      }\n",
              "\n",
              "      .colab-df-generate:hover {\n",
              "        background-color: #E2EBFA;\n",
              "        box-shadow: 0px 1px 2px rgba(60, 64, 67, 0.3), 0px 1px 3px 1px rgba(60, 64, 67, 0.15);\n",
              "        fill: #174EA6;\n",
              "      }\n",
              "\n",
              "      [theme=dark] .colab-df-generate {\n",
              "        background-color: #3B4455;\n",
              "        fill: #D2E3FC;\n",
              "      }\n",
              "\n",
              "      [theme=dark] .colab-df-generate:hover {\n",
              "        background-color: #434B5C;\n",
              "        box-shadow: 0px 1px 3px 1px rgba(0, 0, 0, 0.15);\n",
              "        filter: drop-shadow(0px 1px 2px rgba(0, 0, 0, 0.3));\n",
              "        fill: #FFFFFF;\n",
              "      }\n",
              "    </style>\n",
              "    <button class=\"colab-df-generate\" onclick=\"generateWithVariable('seoul_moving')\"\n",
              "            title=\"Generate code using this dataframe.\"\n",
              "            style=\"display:none;\">\n",
              "\n",
              "  <svg xmlns=\"http://www.w3.org/2000/svg\" height=\"24px\"viewBox=\"0 0 24 24\"\n",
              "       width=\"24px\">\n",
              "    <path d=\"M7,19H8.4L18.45,9,17,7.55,7,17.6ZM5,21V16.75L18.45,3.32a2,2,0,0,1,2.83,0l1.4,1.43a1.91,1.91,0,0,1,.58,1.4,1.91,1.91,0,0,1-.58,1.4L9.25,21ZM18.45,9,17,7.55Zm-12,3A5.31,5.31,0,0,0,4.9,8.1,5.31,5.31,0,0,0,1,6.5,5.31,5.31,0,0,0,4.9,4.9,5.31,5.31,0,0,0,6.5,1,5.31,5.31,0,0,0,8.1,4.9,5.31,5.31,0,0,0,12,6.5,5.46,5.46,0,0,0,6.5,12Z\"/>\n",
              "  </svg>\n",
              "    </button>\n",
              "    <script>\n",
              "      (() => {\n",
              "      const buttonEl =\n",
              "        document.querySelector('#id_5e9a53bb-226c-464d-8071-3e5bf3c53c0e button.colab-df-generate');\n",
              "      buttonEl.style.display =\n",
              "        google.colab.kernel.accessAllowed ? 'block' : 'none';\n",
              "\n",
              "      buttonEl.onclick = () => {\n",
              "        google.colab.notebook.generateWithVariable('seoul_moving');\n",
              "      }\n",
              "      })();\n",
              "    </script>\n",
              "  </div>\n",
              "\n",
              "    </div>\n",
              "  </div>\n"
            ],
            "application/vnd.google.colaboratory.intrinsic+json": {
              "type": "dataframe",
              "variable_name": "seoul_moving",
              "summary": "{\n  \"name\": \"seoul_moving\",\n  \"rows\": 2000,\n  \"fields\": [\n    {\n      \"column\": \"weekday\",\n      \"properties\": {\n        \"dtype\": \"category\",\n        \"num_unique_values\": 7,\n        \"samples\": [\n          \"\\uae08\",\n          \"saturday\",\n          \"sunday\"\n        ],\n        \"semantic_type\": \"\",\n        \"description\": \"\"\n      }\n    },\n    {\n      \"column\": \"arrival_code\",\n      \"properties\": {\n        \"dtype\": \"number\",\n        \"std\": 74,\n        \"min\": 11010,\n        \"max\": 11250,\n        \"num_unique_values\": 25,\n        \"samples\": [\n          11190,\n          11050,\n          11240\n        ],\n        \"semantic_type\": \"\",\n        \"description\": \"\"\n      }\n    }\n  ]\n}"
            }
          },
          "metadata": {},
          "execution_count": 6
        }
      ]
    },
    {
      "cell_type": "markdown",
      "source": [
        "# y value 관계없이 그래프\n",
        "'arrival_code'순서대로 정렬"
      ],
      "metadata": {
        "id": "RfKPfFG_iS5J"
      }
    },
    {
      "cell_type": "code",
      "source": [
        "# 아래에 실습코드를 작성하고 결과를 확인합니다.\n",
        "weekend_data = sms[sms['weekday'].isin(['saturday', 'sunday'])]\n",
        "grouped_weekend = weekend_data.groupby('weekday')['arrival_code'].value_counts().unstack()\n",
        "grouped_weekend.plot(kind='bar', stacked=True)\n",
        "plt.title('주말 도착 시군구별 유동인구 비율')\n",
        "plt.xlabel('요일')\n",
        "plt.ylabel('유동인구비율')\n",
        "plt.legend(title='도착 시군구 코드')\n",
        "plt.legend(loc='upper right')\n",
        "plt.show()"
      ],
      "metadata": {
        "id": "uPOzdfQS01Ry",
        "colab": {
          "base_uri": "https://localhost:8080/",
          "height": 593
        },
        "outputId": "6ca7cd8b-dcf3-4dff-8c81-535daf6bbffd"
      },
      "execution_count": null,
      "outputs": [
        {
          "output_type": "display_data",
          "data": {
            "text/plain": [
              "<Figure size 640x480 with 1 Axes>"
            ],
            "image/png": "[encoded data removed]"
          },
          "metadata": {}
        }
      ]
    },
    {
      "cell_type": "markdown",
      "source": [
        "# y값 순서대로 정렬 plt"
      ],
      "metadata": {
        "id": "hqWPj-qyjOk8"
      }
    },
    {
      "cell_type": "code",
      "source": [
        "# 아래에 실습코드를 작성하고 결과를 확인합니다.\n",
        "\n",
        "import matplotlib.pyplot as plt\n",
        "import pandas as pd\n",
        "import numpy as np\n",
        "\n",
        "weekend_data = sms[sms['weekday'].isin(['saturday', 'sunday'])]\n",
        "grouped_weekend = weekend_data.groupby('weekday')['arrival_code'].value_counts().unstack()\n",
        "a=grouped_weekend\n",
        "fig, ax = plt.subplots()\n",
        "x = a.index\n",
        "indexes = np.argsort(a.values).T\n",
        "heights = np.sort(a.values).T\n",
        "order = -1\n",
        "bottoms = heights[::order].cumsum(axis=0)\n",
        "bottoms = np.insert(bottoms, 0, np.zeros(len(bottoms[0])), axis=0)\n",
        "\n",
        "colors = ['#1f77b4', '#ff7f0e', '#2ca02c', '#d62728', '#9467bd',\n",
        "          '#8c564b', '#e377c2', '#7f7f7f', '#bcbd22', '#17becf',\n",
        "          '#aec7e8', '#ffbb78', '#98df8a', '#ff9896', '#c5b0d5',\n",
        "          '#c49c94', '#f7b6d2', '#c7c7c7', '#dbdb8d', '#9edae5',\n",
        "          '#393b79', '#637939', '#8c6d31', '#843c39', '#7b4173',\n",
        "          '#5254a3', '#637939', '#8c6d31', '#843c39', '#7b4173']\n",
        "\n",
        "# 색상 순환 설정\n",
        "plt.rcParams['axes.prop_cycle'] = plt.cycler(color=colors)\n",
        "\n",
        "mpp_colors = dict(zip(a.columns, plt.rcParams['axes.prop_cycle'].by_key()['color']))\n",
        "\n",
        "for btms, (idxs, vals) in enumerate(list(zip(indexes, heights))[::order]):\n",
        "    mps = np.take(np.array(a.columns), idxs)\n",
        "\n",
        "    ax.bar(x, height=vals, bottom=bottoms[btms], color=[mpp_colors[m] for m in mps])\n",
        "#ax.set_ylim(bottom=0, top=2)\n",
        "plt.legend((np.take(np.array(a.columns), np.argsort(a.values)[0]))[::order], loc='upper right')\n",
        "\n"
      ],
      "metadata": {
        "colab": {
          "base_uri": "https://localhost:8080/",
          "height": 589
        },
        "id": "DT9DHBfLiXM2",
        "outputId": "fa3c6111-1982-459e-bd3f-0a3e3ad62a8e"
      },
      "execution_count": null,
      "outputs": [
        {
          "output_type": "execute_result",
          "data": {
            "text/plain": [
              "<matplotlib.legend.Legend at 0x7da1f26555d0>"
            ]
          },
          "metadata": {},
          "execution_count": 10
        },
        {
          "output_type": "display_data",
          "data": {
            "text/plain": [
              "<Figure size 640x480 with 1 Axes>"
            ],
            "image/png": "[encoded data removed]"
          },
          "metadata": {}
        }
      ]
    },
    {
      "cell_type": "markdown",
      "source": [
        "# Plotly"
      ],
      "metadata": {
        "id": "8Cq8tHT2jdH4"
      }
    },
    {
      "cell_type": "code",
      "source": [
        "import plotly.graph_objects as go\n",
        "import plotly.colors as pc\n",
        "import plotly.express as px\n",
        "\n",
        "data = []\n",
        "\n",
        "\n",
        "weekend_data = sms[sms['weekday'].isin(['saturday', 'sunday'])]\n",
        "grouped_weekend = weekend_data.groupby('weekday')['arrival_code'].value_counts().unstack()\n",
        "df = grouped_weekend\n",
        "\n",
        "\n",
        "\n",
        "color_map = px.colors.qualitative.Light24\n",
        "color_map += color_map\n",
        "mpp_colors = dict(zip(df.columns, color_map))\n",
        "\n",
        "\n",
        "for i in range(df.shape[0]):\n",
        "    ordered_columns = df.columns[1:][np.argsort(df.iloc[i, 1:].values)]\n",
        "    ordered_columns = ordered_columns[::-1]\n",
        "    for column in ordered_columns:\n",
        "\n",
        "        data.append(go.Bar(x=[df.index[i]],\n",
        "                           y=[df[column][i]],\n",
        "                           marker=dict(color=mpp_colors[int(column)]),\n",
        "                           name=column,\n",
        "                           legendgroup=column,showlegend=i == 0))\n",
        "\n",
        "layout = dict(barmode='stack',\n",
        "              yaxis={'title': 'amount'},\n",
        "              xaxis={'type': 'category', 'title': 'month'})\n",
        "fig = go.Figure(data=data, layout=layout)\n",
        "\n",
        "fig.update_layout(\n",
        "    title={\n",
        "        'text': '<b>주말 도착 시군구별 유동인구 비율</b>',\n",
        "        'x': 0.5,\n",
        "        'y': 0.9,\n",
        "        'xanchor': 'center',\n",
        "        'yanchor': 'top',\n",
        "        'font': dict(\n",
        "            family=\"Arial, sans-serif\",\n",
        "            color=\"black\",\n",
        "            size=20\n",
        "        )\n",
        "    },\n",
        "        width=500,\n",
        "    height=500,\n",
        "\n",
        ")\n",
        "fig.show()"
      ],
      "metadata": {
        "colab": {
          "base_uri": "https://localhost:8080/",
          "height": 517
        },
        "id": "TEuut9JRjSBG",
        "outputId": "504830d8-6e72-4268-b840-8b364a8bccfa"
      },
      "execution_count": null,
      "outputs": [
        {
          "output_type": "display_data",
          "data": {
            "text/html": [
              "<html>\n",
              "<head><meta charset=\"utf-8\" /></head>\n",
              "<body>\n",
              "    <div>            <script src=\"https://cdnjs.cloudflare.com/ajax/libs/mathjax/2.7.5/MathJax.js?config=TeX-AMS-MML_SVG\"></script><script type=\"text/javascript\">if (window.MathJax && window.MathJax.Hub && window.MathJax.Hub.Config) {window.MathJax.Hub.Config({SVG: {font: \"STIX-Web\"}});}</script>                <script type=\"text/javascript\">window.PlotlyConfig = {MathJaxConfig: 'local'};</script>\n",
              "        <script charset=\"utf-8\" src=\"https://cdn.plot.ly/plotly-2.24.1.min.js\"></script>                <div id=\"c80d4ef7-3116-417e-9c48-a105e61cce05\" class=\"plotly-graph-div\" style=\"height:500px; width:500px;\"></div>            <script type=\"text/javascript\">                                    window.PLOTLYENV=window.PLOTLYENV || {};                                    if (document.getElementById(\"c80d4ef7-3116-417e-9c48-a105e61cce05\")) {                    Plotly.newPlot(                        \"c80d4ef7-3116-417e-9c48-a105e61cce05\",                        [{\"legendgroup\":\"11020\",\"marker\":{\"color\":\"#00FE35\"},\"name\":\"11020\",\"showlegend\":true,\"x\":[\"saturday\"],\"y\":[22],\"type\":\"bar\"},{\"legendgroup\":\"11220\",\"marker\":{\"color\":\"#7E7DCD\"},\"name\":\"11220\",\"showlegend\":true,\"x\":[\"saturday\"],\"y\":[17],\"type\":\"bar\"},{\"legendgroup\":\"11230\",\"marker\":{\"color\":\"#FC6955\"},\"name\":\"11230\",\"showlegend\":true,\"x\":[\"saturday\"],\"y\":[16],\"type\":\"bar\"},{\"legendgroup\":\"11140\",\"marker\":{\"color\":\"#00B5F7\"},\"name\":\"11140\",\"showlegend\":true,\"x\":[\"saturday\"],\"y\":[15],\"type\":\"bar\"},{\"legendgroup\":\"11050\",\"marker\":{\"color\":\"#FE00CE\"},\"name\":\"11050\",\"showlegend\":true,\"x\":[\"saturday\"],\"y\":[15],\"type\":\"bar\"},{\"legendgroup\":\"11130\",\"marker\":{\"color\":\"#6E899C\"},\"name\":\"11130\",\"showlegend\":true,\"x\":[\"saturday\"],\"y\":[15],\"type\":\"bar\"},{\"legendgroup\":\"11160\",\"marker\":{\"color\":\"#C9FBE5\"},\"name\":\"11160\",\"showlegend\":true,\"x\":[\"saturday\"],\"y\":[14],\"type\":\"bar\"},{\"legendgroup\":\"11210\",\"marker\":{\"color\":\"#BC7196\"},\"name\":\"11210\",\"showlegend\":true,\"x\":[\"saturday\"],\"y\":[12],\"type\":\"bar\"},{\"legendgroup\":\"11110\",\"marker\":{\"color\":\"#DC587D\"},\"name\":\"11110\",\"showlegend\":true,\"x\":[\"saturday\"],\"y\":[12],\"type\":\"bar\"},{\"legendgroup\":\"11080\",\"marker\":{\"color\":\"#FF9616\"},\"name\":\"11080\",\"showlegend\":true,\"x\":[\"saturday\"],\"y\":[11],\"type\":\"bar\"},{\"legendgroup\":\"11030\",\"marker\":{\"color\":\"#6A76FC\"},\"name\":\"11030\",\"showlegend\":true,\"x\":[\"saturday\"],\"y\":[11],\"type\":\"bar\"},{\"legendgroup\":\"11240\",\"marker\":{\"color\":\"#E48F72\"},\"name\":\"11240\",\"showlegend\":true,\"x\":[\"saturday\"],\"y\":[10],\"type\":\"bar\"},{\"legendgroup\":\"11060\",\"marker\":{\"color\":\"#0DF9FF\"},\"name\":\"11060\",\"showlegend\":true,\"x\":[\"saturday\"],\"y\":[10],\"type\":\"bar\"},{\"legendgroup\":\"11070\",\"marker\":{\"color\":\"#F6F926\"},\"name\":\"11070\",\"showlegend\":true,\"x\":[\"saturday\"],\"y\":[10],\"type\":\"bar\"},{\"legendgroup\":\"11190\",\"marker\":{\"color\":\"#E3EE9E\"},\"name\":\"11190\",\"showlegend\":true,\"x\":[\"saturday\"],\"y\":[9],\"type\":\"bar\"},{\"legendgroup\":\"11040\",\"marker\":{\"color\":\"#FED4C4\"},\"name\":\"11040\",\"showlegend\":true,\"x\":[\"saturday\"],\"y\":[9],\"type\":\"bar\"},{\"legendgroup\":\"11100\",\"marker\":{\"color\":\"#EEA6FB\"},\"name\":\"11100\",\"showlegend\":true,\"x\":[\"saturday\"],\"y\":[8],\"type\":\"bar\"},{\"legendgroup\":\"11120\",\"marker\":{\"color\":\"#D626FF\"},\"name\":\"11120\",\"showlegend\":true,\"x\":[\"saturday\"],\"y\":[8],\"type\":\"bar\"},{\"legendgroup\":\"11200\",\"marker\":{\"color\":\"#86CE00\"},\"name\":\"11200\",\"showlegend\":true,\"x\":[\"saturday\"],\"y\":[8],\"type\":\"bar\"},{\"legendgroup\":\"11090\",\"marker\":{\"color\":\"#479B55\"},\"name\":\"11090\",\"showlegend\":true,\"x\":[\"saturday\"],\"y\":[7],\"type\":\"bar\"},{\"legendgroup\":\"11170\",\"marker\":{\"color\":\"#FF0092\"},\"name\":\"11170\",\"showlegend\":true,\"x\":[\"saturday\"],\"y\":[6],\"type\":\"bar\"},{\"legendgroup\":\"11150\",\"marker\":{\"color\":\"#B68E00\"},\"name\":\"11150\",\"showlegend\":true,\"x\":[\"saturday\"],\"y\":[5],\"type\":\"bar\"},{\"legendgroup\":\"11250\",\"marker\":{\"color\":\"#FD3216\"},\"name\":\"11250\",\"showlegend\":true,\"x\":[\"saturday\"],\"y\":[5],\"type\":\"bar\"},{\"legendgroup\":\"11180\",\"marker\":{\"color\":\"#22FFA7\"},\"name\":\"11180\",\"showlegend\":true,\"x\":[\"saturday\"],\"y\":[4],\"type\":\"bar\"},{\"legendgroup\":\"11060\",\"marker\":{\"color\":\"#0DF9FF\"},\"name\":\"11060\",\"showlegend\":false,\"x\":[\"sunday\"],\"y\":[16],\"type\":\"bar\"},{\"legendgroup\":\"11190\",\"marker\":{\"color\":\"#E3EE9E\"},\"name\":\"11190\",\"showlegend\":false,\"x\":[\"sunday\"],\"y\":[16],\"type\":\"bar\"},{\"legendgroup\":\"11140\",\"marker\":{\"color\":\"#00B5F7\"},\"name\":\"11140\",\"showlegend\":false,\"x\":[\"sunday\"],\"y\":[14],\"type\":\"bar\"},{\"legendgroup\":\"11160\",\"marker\":{\"color\":\"#C9FBE5\"},\"name\":\"11160\",\"showlegend\":false,\"x\":[\"sunday\"],\"y\":[14],\"type\":\"bar\"},{\"legendgroup\":\"11020\",\"marker\":{\"color\":\"#00FE35\"},\"name\":\"11020\",\"showlegend\":false,\"x\":[\"sunday\"],\"y\":[13],\"type\":\"bar\"},{\"legendgroup\":\"11170\",\"marker\":{\"color\":\"#FF0092\"},\"name\":\"11170\",\"showlegend\":false,\"x\":[\"sunday\"],\"y\":[13],\"type\":\"bar\"},{\"legendgroup\":\"11230\",\"marker\":{\"color\":\"#FC6955\"},\"name\":\"11230\",\"showlegend\":false,\"x\":[\"sunday\"],\"y\":[13],\"type\":\"bar\"},{\"legendgroup\":\"11050\",\"marker\":{\"color\":\"#FE00CE\"},\"name\":\"11050\",\"showlegend\":false,\"x\":[\"sunday\"],\"y\":[11],\"type\":\"bar\"},{\"legendgroup\":\"11250\",\"marker\":{\"color\":\"#FD3216\"},\"name\":\"11250\",\"showlegend\":false,\"x\":[\"sunday\"],\"y\":[11],\"type\":\"bar\"},{\"legendgroup\":\"11200\",\"marker\":{\"color\":\"#86CE00\"},\"name\":\"11200\",\"showlegend\":false,\"x\":[\"sunday\"],\"y\":[10],\"type\":\"bar\"},{\"legendgroup\":\"11220\",\"marker\":{\"color\":\"#7E7DCD\"},\"name\":\"11220\",\"showlegend\":false,\"x\":[\"sunday\"],\"y\":[10],\"type\":\"bar\"},{\"legendgroup\":\"11030\",\"marker\":{\"color\":\"#6A76FC\"},\"name\":\"11030\",\"showlegend\":false,\"x\":[\"sunday\"],\"y\":[10],\"type\":\"bar\"},{\"legendgroup\":\"11240\",\"marker\":{\"color\":\"#E48F72\"},\"name\":\"11240\",\"showlegend\":false,\"x\":[\"sunday\"],\"y\":[9],\"type\":\"bar\"},{\"legendgroup\":\"11100\",\"marker\":{\"color\":\"#EEA6FB\"},\"name\":\"11100\",\"showlegend\":false,\"x\":[\"sunday\"],\"y\":[9],\"type\":\"bar\"},{\"legendgroup\":\"11210\",\"marker\":{\"color\":\"#BC7196\"},\"name\":\"11210\",\"showlegend\":false,\"x\":[\"sunday\"],\"y\":[8],\"type\":\"bar\"},{\"legendgroup\":\"11090\",\"marker\":{\"color\":\"#479B55\"},\"name\":\"11090\",\"showlegend\":false,\"x\":[\"sunday\"],\"y\":[7],\"type\":\"bar\"},{\"legendgroup\":\"11070\",\"marker\":{\"color\":\"#F6F926\"},\"name\":\"11070\",\"showlegend\":false,\"x\":[\"sunday\"],\"y\":[7],\"type\":\"bar\"},{\"legendgroup\":\"11040\",\"marker\":{\"color\":\"#FED4C4\"},\"name\":\"11040\",\"showlegend\":false,\"x\":[\"sunday\"],\"y\":[7],\"type\":\"bar\"},{\"legendgroup\":\"11150\",\"marker\":{\"color\":\"#B68E00\"},\"name\":\"11150\",\"showlegend\":false,\"x\":[\"sunday\"],\"y\":[6],\"type\":\"bar\"},{\"legendgroup\":\"11130\",\"marker\":{\"color\":\"#6E899C\"},\"name\":\"11130\",\"showlegend\":false,\"x\":[\"sunday\"],\"y\":[6],\"type\":\"bar\"},{\"legendgroup\":\"11180\",\"marker\":{\"color\":\"#22FFA7\"},\"name\":\"11180\",\"showlegend\":false,\"x\":[\"sunday\"],\"y\":[5],\"type\":\"bar\"},{\"legendgroup\":\"11080\",\"marker\":{\"color\":\"#FF9616\"},\"name\":\"11080\",\"showlegend\":false,\"x\":[\"sunday\"],\"y\":[5],\"type\":\"bar\"},{\"legendgroup\":\"11110\",\"marker\":{\"color\":\"#DC587D\"},\"name\":\"11110\",\"showlegend\":false,\"x\":[\"sunday\"],\"y\":[4],\"type\":\"bar\"},{\"legendgroup\":\"11120\",\"marker\":{\"color\":\"#D626FF\"},\"name\":\"11120\",\"showlegend\":false,\"x\":[\"sunday\"],\"y\":[3],\"type\":\"bar\"}],                        {\"barmode\":\"stack\",\"xaxis\":{\"title\":{\"text\":\"month\"},\"type\":\"category\"},\"yaxis\":{\"title\":{\"text\":\"amount\"}},\"template\":{\"data\":{\"histogram2dcontour\":[{\"type\":\"histogram2dcontour\",\"colorbar\":{\"outlinewidth\":0,\"ticks\":\"\"},\"colorscale\":[[0.0,\"#0d0887\"],[0.1111111111111111,\"#46039f\"],[0.2222222222222222,\"#7201a8\"],[0.3333333333333333,\"#9c179e\"],[0.4444444444444444,\"#bd3786\"],[0.5555555555555556,\"#d8576b\"],[0.6666666666666666,\"#ed7953\"],[0.7777777777777778,\"#fb9f3a\"],[0.8888888888888888,\"#fdca26\"],[1.0,\"#f0f921\"]]}],\"choropleth\":[{\"type\":\"choropleth\",\"colorbar\":{\"outlinewidth\":0,\"ticks\":\"\"}}],\"histogram2d\":[{\"type\":\"histogram2d\",\"colorbar\":{\"outlinewidth\":0,\"ticks\":\"\"},\"colorscale\":[[0.0,\"#0d0887\"],[0.1111111111111111,\"#46039f\"],[0.2222222222222222,\"#7201a8\"],[0.3333333333333333,\"#9c179e\"],[0.4444444444444444,\"#bd3786\"],[0.5555555555555556,\"#d8576b\"],[0.6666666666666666,\"#ed7953\"],[0.7777777777777778,\"#fb9f3a\"],[0.8888888888888888,\"#fdca26\"],[1.0,\"#f0f921\"]]}],\"heatmap\":[{\"type\":\"heatmap\",\"colorbar\":{\"outlinewidth\":0,\"ticks\":\"\"},\"colorscale\":[[0.0,\"#0d0887\"],[0.1111111111111111,\"#46039f\"],[0.2222222222222222,\"#7201a8\"],[0.3333333333333333,\"#9c179e\"],[0.4444444444444444,\"#bd3786\"],[0.5555555555555556,\"#d8576b\"],[0.6666666666666666,\"#ed7953\"],[0.7777777777777778,\"#fb9f3a\"],[0.8888888888888888,\"#fdca26\"],[1.0,\"#f0f921\"]]}],\"heatmapgl\":[{\"type\":\"heatmapgl\",\"colorbar\":{\"outlinewidth\":0,\"ticks\":\"\"},\"colorscale\":[[0.0,\"#0d0887\"],[0.1111111111111111,\"#46039f\"],[0.2222222222222222,\"#7201a8\"],[0.3333333333333333,\"#9c179e\"],[0.4444444444444444,\"#bd3786\"],[0.5555555555555556,\"#d8576b\"],[0.6666666666666666,\"#ed7953\"],[0.7777777777777778,\"#fb9f3a\"],[0.8888888888888888,\"#fdca26\"],[1.0,\"#f0f921\"]]}],\"contourcarpet\":[{\"type\":\"contourcarpet\",\"colorbar\":{\"outlinewidth\":0,\"ticks\":\"\"}}],\"contour\":[{\"type\":\"contour\",\"colorbar\":{\"outlinewidth\":0,\"ticks\":\"\"},\"colorscale\":[[0.0,\"#0d0887\"],[0.1111111111111111,\"#46039f\"],[0.2222222222222222,\"#7201a8\"],[0.3333333333333333,\"#9c179e\"],[0.4444444444444444,\"#bd3786\"],[0.5555555555555556,\"#d8576b\"],[0.6666666666666666,\"#ed7953\"],[0.7777777777777778,\"#fb9f3a\"],[0.8888888888888888,\"#fdca26\"],[1.0,\"#f0f921\"]]}],\"surface\":[{\"type\":\"surface\",\"colorbar\":{\"outlinewidth\":0,\"ticks\":\"\"},\"colorscale\":[[0.0,\"#0d0887\"],[0.1111111111111111,\"#46039f\"],[0.2222222222222222,\"#7201a8\"],[0.3333333333333333,\"#9c179e\"],[0.4444444444444444,\"#bd3786\"],[0.5555555555555556,\"#d8576b\"],[0.6666666666666666,\"#ed7953\"],[0.7777777777777778,\"#fb9f3a\"],[0.8888888888888888,\"#fdca26\"],[1.0,\"#f0f921\"]]}],\"mesh3d\":[{\"type\":\"mesh3d\",\"colorbar\":{\"outlinewidth\":0,\"ticks\":\"\"}}],\"scatter\":[{\"fillpattern\":{\"fillmode\":\"overlay\",\"size\":10,\"solidity\":0.2},\"type\":\"scatter\"}],\"parcoords\":[{\"type\":\"parcoords\",\"line\":{\"colorbar\":{\"outlinewidth\":0,\"ticks\":\"\"}}}],\"scatterpolargl\":[{\"type\":\"scatterpolargl\",\"marker\":{\"colorbar\":{\"outlinewidth\":0,\"ticks\":\"\"}}}],\"bar\":[{\"error_x\":{\"color\":\"#2a3f5f\"},\"error_y\":{\"color\":\"#2a3f5f\"},\"marker\":{\"line\":{\"color\":\"#E5ECF6\",\"width\":0.5},\"pattern\":{\"fillmode\":\"overlay\",\"size\":10,\"solidity\":0.2}},\"type\":\"bar\"}],\"scattergeo\":[{\"type\":\"scattergeo\",\"marker\":{\"colorbar\":{\"outlinewidth\":0,\"ticks\":\"\"}}}],\"scatterpolar\":[{\"type\":\"scatterpolar\",\"marker\":{\"colorbar\":{\"outlinewidth\":0,\"ticks\":\"\"}}}],\"histogram\":[{\"marker\":{\"pattern\":{\"fillmode\":\"overlay\",\"size\":10,\"solidity\":0.2}},\"type\":\"histogram\"}],\"scattergl\":[{\"type\":\"scattergl\",\"marker\":{\"colorbar\":{\"outlinewidth\":0,\"ticks\":\"\"}}}],\"scatter3d\":[{\"type\":\"scatter3d\",\"line\":{\"colorbar\":{\"outlinewidth\":0,\"ticks\":\"\"}},\"marker\":{\"colorbar\":{\"outlinewidth\":0,\"ticks\":\"\"}}}],\"scattermapbox\":[{\"type\":\"scattermapbox\",\"marker\":{\"colorbar\":{\"outlinewidth\":0,\"ticks\":\"\"}}}],\"scatterternary\":[{\"type\":\"scatterternary\",\"marker\":{\"colorbar\":{\"outlinewidth\":0,\"ticks\":\"\"}}}],\"scattercarpet\":[{\"type\":\"scattercarpet\",\"marker\":{\"colorbar\":{\"outlinewidth\":0,\"ticks\":\"\"}}}],\"carpet\":[{\"aaxis\":{\"endlinecolor\":\"#2a3f5f\",\"gridcolor\":\"white\",\"linecolor\":\"white\",\"minorgridcolor\":\"white\",\"startlinecolor\":\"#2a3f5f\"},\"baxis\":{\"endlinecolor\":\"#2a3f5f\",\"gridcolor\":\"white\",\"linecolor\":\"white\",\"minorgridcolor\":\"white\",\"startlinecolor\":\"#2a3f5f\"},\"type\":\"carpet\"}],\"table\":[{\"cells\":{\"fill\":{\"color\":\"#EBF0F8\"},\"line\":{\"color\":\"white\"}},\"header\":{\"fill\":{\"color\":\"#C8D4E3\"},\"line\":{\"color\":\"white\"}},\"type\":\"table\"}],\"barpolar\":[{\"marker\":{\"line\":{\"color\":\"#E5ECF6\",\"width\":0.5},\"pattern\":{\"fillmode\":\"overlay\",\"size\":10,\"solidity\":0.2}},\"type\":\"barpolar\"}],\"pie\":[{\"automargin\":true,\"type\":\"pie\"}]},\"layout\":{\"autotypenumbers\":\"strict\",\"colorway\":[\"#636efa\",\"#EF553B\",\"#00cc96\",\"#ab63fa\",\"#FFA15A\",\"#19d3f3\",\"#FF6692\",\"#B6E880\",\"#FF97FF\",\"#FECB52\"],\"font\":{\"color\":\"#2a3f5f\"},\"hovermode\":\"closest\",\"hoverlabel\":{\"align\":\"left\"},\"paper_bgcolor\":\"white\",\"plot_bgcolor\":\"#E5ECF6\",\"polar\":{\"bgcolor\":\"#E5ECF6\",\"angularaxis\":{\"gridcolor\":\"white\",\"linecolor\":\"white\",\"ticks\":\"\"},\"radialaxis\":{\"gridcolor\":\"white\",\"linecolor\":\"white\",\"ticks\":\"\"}},\"ternary\":{\"bgcolor\":\"#E5ECF6\",\"aaxis\":{\"gridcolor\":\"white\",\"linecolor\":\"white\",\"ticks\":\"\"},\"baxis\":{\"gridcolor\":\"white\",\"linecolor\":\"white\",\"ticks\":\"\"},\"caxis\":{\"gridcolor\":\"white\",\"linecolor\":\"white\",\"ticks\":\"\"}},\"coloraxis\":{\"colorbar\":{\"outlinewidth\":0,\"ticks\":\"\"}},\"colorscale\":{\"sequential\":[[0.0,\"#0d0887\"],[0.1111111111111111,\"#46039f\"],[0.2222222222222222,\"#7201a8\"],[0.3333333333333333,\"#9c179e\"],[0.4444444444444444,\"#bd3786\"],[0.5555555555555556,\"#d8576b\"],[0.6666666666666666,\"#ed7953\"],[0.7777777777777778,\"#fb9f3a\"],[0.8888888888888888,\"#fdca26\"],[1.0,\"#f0f921\"]],\"sequentialminus\":[[0.0,\"#0d0887\"],[0.1111111111111111,\"#46039f\"],[0.2222222222222222,\"#7201a8\"],[0.3333333333333333,\"#9c179e\"],[0.4444444444444444,\"#bd3786\"],[0.5555555555555556,\"#d8576b\"],[0.6666666666666666,\"#ed7953\"],[0.7777777777777778,\"#fb9f3a\"],[0.8888888888888888,\"#fdca26\"],[1.0,\"#f0f921\"]],\"diverging\":[[0,\"#8e0152\"],[0.1,\"#c51b7d\"],[0.2,\"#de77ae\"],[0.3,\"#f1b6da\"],[0.4,\"#fde0ef\"],[0.5,\"#f7f7f7\"],[0.6,\"#e6f5d0\"],[0.7,\"#b8e186\"],[0.8,\"#7fbc41\"],[0.9,\"#4d9221\"],[1,\"#276419\"]]},\"xaxis\":{\"gridcolor\":\"white\",\"linecolor\":\"white\",\"ticks\":\"\",\"title\":{\"standoff\":15},\"zerolinecolor\":\"white\",\"automargin\":true,\"zerolinewidth\":2},\"yaxis\":{\"gridcolor\":\"white\",\"linecolor\":\"white\",\"ticks\":\"\",\"title\":{\"standoff\":15},\"zerolinecolor\":\"white\",\"automargin\":true,\"zerolinewidth\":2},\"scene\":{\"xaxis\":{\"backgroundcolor\":\"#E5ECF6\",\"gridcolor\":\"white\",\"linecolor\":\"white\",\"showbackground\":true,\"ticks\":\"\",\"zerolinecolor\":\"white\",\"gridwidth\":2},\"yaxis\":{\"backgroundcolor\":\"#E5ECF6\",\"gridcolor\":\"white\",\"linecolor\":\"white\",\"showbackground\":true,\"ticks\":\"\",\"zerolinecolor\":\"white\",\"gridwidth\":2},\"zaxis\":{\"backgroundcolor\":\"#E5ECF6\",\"gridcolor\":\"white\",\"linecolor\":\"white\",\"showbackground\":true,\"ticks\":\"\",\"zerolinecolor\":\"white\",\"gridwidth\":2}},\"shapedefaults\":{\"line\":{\"color\":\"#2a3f5f\"}},\"annotationdefaults\":{\"arrowcolor\":\"#2a3f5f\",\"arrowhead\":0,\"arrowwidth\":1},\"geo\":{\"bgcolor\":\"white\",\"landcolor\":\"#E5ECF6\",\"subunitcolor\":\"white\",\"showland\":true,\"showlakes\":true,\"lakecolor\":\"white\"},\"title\":{\"x\":0.05},\"mapbox\":{\"style\":\"light\"}}},\"title\":{\"font\":{\"family\":\"Arial, sans-serif\",\"color\":\"black\",\"size\":20},\"text\":\"\\u003cb\\u003e\\uc8fc\\ub9d0 \\ub3c4\\ucc29 \\uc2dc\\uad70\\uad6c\\ubcc4 \\uc720\\ub3d9\\uc778\\uad6c \\ube44\\uc728\\u003c\\u002fb\\u003e\",\"x\":0.5,\"y\":0.9,\"xanchor\":\"center\",\"yanchor\":\"top\"},\"width\":500,\"height\":500},                        {\"responsive\": true}                    ).then(function(){\n",
              "                            \n",
              "var gd = document.getElementById('c80d4ef7-3116-417e-9c48-a105e61cce05');\n",
              "var x = new MutationObserver(function (mutations, observer) {{\n",
              "        var display = window.getComputedStyle(gd).display;\n",
              "        if (!display || display === 'none') {{\n",
              "            console.log([gd, 'removed!']);\n",
              "            Plotly.purge(gd);\n",
              "            observer.disconnect();\n",
              "        }}\n",
              "}});\n",
              "\n",
              "// Listen for the removal of the full notebook cells\n",
              "var notebookContainer = gd.closest('#notebook-container');\n",
              "if (notebookContainer) {{\n",
              "    x.observe(notebookContainer, {childList: true});\n",
              "}}\n",
              "\n",
              "// Listen for the clearing of the current output cell\n",
              "var outputEl = gd.closest('.output');\n",
              "if (outputEl) {{\n",
              "    x.observe(outputEl, {childList: true});\n",
              "}}\n",
              "\n",
              "                        })                };                            </script>        </div>\n",
              "</body>\n",
              "</html>"
            ]
          },
          "metadata": {}
        }
      ]
    },
    {
      "cell_type": "code",
      "source": [],
      "metadata": {
        "id": "veKkB8rFjfdR"
      },
      "execution_count": null,
      "outputs": []
    }
  ]
}